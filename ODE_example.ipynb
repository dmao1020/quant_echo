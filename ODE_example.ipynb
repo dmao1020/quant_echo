{
 "cells": [
  {
   "cell_type": "code",
   "execution_count": 1,
   "id": "82f6db92",
   "metadata": {},
   "outputs": [],
   "source": [
    "import numpy as np\n",
    "import matplotlib.pyplot as plt\n",
    "import scipy as sp\n",
    "from scipy.integrate import odeint\n",
    "from scipy.integrate import solve_ivp"
   ]
  },
  {
   "cell_type": "code",
   "execution_count": 2,
   "id": "2159edfd",
   "metadata": {},
   "outputs": [],
   "source": [
    "def dvdt(t, v):\n",
    "    return 3*v**2 - 5\n",
    "v0 = 0\n"
   ]
  },
  {
   "cell_type": "code",
   "execution_count": 4,
   "id": "fe3ae385",
   "metadata": {},
   "outputs": [],
   "source": [
    "t = np.linspace(0, 1, 100)"
   ]
  },
  {
   "cell_type": "code",
   "execution_count": 5,
   "id": "37f6fc27",
   "metadata": {},
   "outputs": [],
   "source": [
    "# the time which the equation would be solved and get the solution\n",
    "t = np.linspace(0, 1, 100)\n",
    "# the first ode solver: odeint\n",
    "# y0 = initial condition of the parameter in the function\n",
    "# tfirst = True means that in the defined function of dvdt(t, v), t is given first  \n",
    "\n",
    "sol_m1 = odeint(dvdt, y0=v0, t=t, tfirst=True)\n",
    "\n",
    "# t_span, \n",
    "# y0 is for the system of coupled equation\n",
    "# t_eval what t to evaluate \n",
    "sol_m2 = solve_ivp(dvdt, t_span=(0,max(t)), y0=[v0], t_eval=t) # more versitile \n"
   ]
  },
  {
   "cell_type": "code",
   "execution_count": 8,
   "id": "c304a34d",
   "metadata": {},
   "outputs": [
    {
     "data": {
      "text/plain": [
       "array([ 0.        , -0.05047933, -0.10080451, -0.15082334, -0.20038726,\n",
       "       -0.24935318, -0.29758502, -0.34495519, -0.39134576, -0.43664948,\n",
       "       -0.48077056, -0.52362515, -0.56514164, -0.60526086, -0.6439356 ,\n",
       "       -0.68113064, -0.71682205, -0.75099661, -0.78365109, -0.8147914 ,\n",
       "       -0.84443176, -0.87259378, -0.89930556, -0.92460079, -0.94851787,\n",
       "       -0.97109913, -0.99239002, -1.01243837, -1.03129376, -1.04900692,\n",
       "       -1.06562918, -1.081212  , -1.0958066 , -1.10946355, -1.12223249,\n",
       "       -1.13416195, -1.14529906, -1.15568941, -1.16537698, -1.17440397,\n",
       "       -1.18281086, -1.19063623, -1.19791686, -1.20468768, -1.21098179,\n",
       "       -1.21683053, -1.22226349, -1.22730856, -1.23199199, -1.23633849,\n",
       "       -1.24037122, -1.24411192, -1.24758094, -1.25079735, -1.25377896,\n",
       "       -1.25654241, -1.25910322, -1.2614759 , -1.26367394, -1.26570992,\n",
       "       -1.26759557, -1.26934179, -1.27095869, -1.27245574, -1.27384168,\n",
       "       -1.27512464, -1.2763122 , -1.27741137, -1.27842865, -1.27937009,\n",
       "       -1.28024128, -1.28104744, -1.28179338, -1.28248356, -1.28312213,\n",
       "       -1.28371292, -1.2842595 , -1.28476514, -1.2852329 , -1.28566562,\n",
       "       -1.2860659 , -1.28643616, -1.28677865, -1.28709545, -1.28738847,\n",
       "       -1.28765951, -1.28791021, -1.28814208, -1.28835653, -1.28855487,\n",
       "       -1.28873831, -1.28890797, -1.28906488, -1.28920999, -1.2893442 ,\n",
       "       -1.28946833, -1.28958312, -1.28968929, -1.28978746, -1.28987826])"
      ]
     },
     "execution_count": 8,
     "metadata": {},
     "output_type": "execute_result"
    }
   ],
   "source": [
    "sol_m1.T[0]\n"
   ]
  },
  {
   "cell_type": "code",
   "execution_count": 11,
   "id": "c6e3d541",
   "metadata": {},
   "outputs": [
    {
     "data": {
      "text/plain": [
       "array([[ 0.        , -0.0504793 , -0.10080722, -0.15083038, -0.20039553,\n",
       "        -0.24935878, -0.29758564, -0.34495103, -0.39133929, -0.43664418,\n",
       "        -0.48076886, -0.52362591, -0.56513507, -0.60524282, -0.64391404,\n",
       "        -0.68112062, -0.71684143, -0.75106235, -0.78377623, -0.81498294,\n",
       "        -0.84468932, -0.87290923, -0.89966349, -0.92497994, -0.94889341,\n",
       "        -0.97144571, -0.99268566, -1.01266906, -1.03145871, -1.04912441,\n",
       "        -1.06573928, -1.08134937, -1.09599363, -1.10971235, -1.12254598,\n",
       "        -1.13453506, -1.14572027, -1.15614242, -1.16584241, -1.17486131,\n",
       "        -1.18324028, -1.19102062, -1.19824374, -1.20495119, -1.21118463,\n",
       "        -1.21698585, -1.22239666, -1.22744653, -1.23215067, -1.23652537,\n",
       "        -1.24058697, -1.24435186, -1.24783652, -1.25105747, -1.25403128,\n",
       "        -1.25677462, -1.25930417, -1.2616367 , -1.26378904, -1.26577807,\n",
       "        -1.26762074, -1.26933406, -1.27093508, -1.27243817, -1.27384571,\n",
       "        -1.27515955, -1.27638204, -1.27751582, -1.27856386, -1.27952945,\n",
       "        -1.28041617, -1.28122794, -1.28196899, -1.28264386, -1.2832574 ,\n",
       "        -1.28381478, -1.28432149, -1.28478332, -1.2852064 , -1.28559714,\n",
       "        -1.2859623 , -1.28630892, -1.2866444 , -1.28697068, -1.28727516,\n",
       "        -1.28755781, -1.28781965, -1.28806173, -1.28828513, -1.28849093,\n",
       "        -1.28868023, -1.28885416, -1.28901385, -1.28916046, -1.28929516,\n",
       "        -1.28941915, -1.28953362, -1.2896398 , -1.28973894, -1.2898323 ]])"
      ]
     },
     "execution_count": 11,
     "metadata": {},
     "output_type": "execute_result"
    }
   ],
   "source": [
    "#sol_m2\n",
    "# to get the solution:\n",
    "sol_m2.y"
   ]
  },
  {
   "cell_type": "code",
   "execution_count": 13,
   "id": "94dd7fb0",
   "metadata": {},
   "outputs": [
    {
     "data": {
      "image/png": "[encoded data removed]",
      "text/plain": [
       "<Figure size 432x288 with 1 Axes>"
      ]
     },
     "metadata": {
      "needs_background": "light"
     },
     "output_type": "display_data"
    }
   ],
   "source": [
    "\n",
    "\n",
    "v_sol_m1 = sol_m1.T[0]\n",
    "v_sol_m2 = sol_m2.y[0]\n",
    "\n",
    "\n",
    "plt.plot(t, v_sol_m1)\n",
    "plt.plot(t, v_sol_m2, '--')\n",
    "plt.ylabel('$v(t)$', fontsize=22)\n",
    "plt.xlabel('$t$', fontsize=22)\n",
    "plt.show()\n"
   ]
  },
  {
   "cell_type": "code",
   "execution_count": null,
   "id": "d8dd345f",
   "metadata": {},
   "outputs": [],
   "source": []
  }
 ],
 "metadata": {
  "kernelspec": {
   "display_name": "Python 3 (ipykernel)",
   "language": "python",
   "name": "python3"
  },
  "language_info": {
   "codemirror_mode": {
    "name": "ipython",
    "version": 3
   },
   "file_extension": ".py",
   "mimetype": "text/x-python",
   "name": "python",
   "nbconvert_exporter": "python",
   "pygments_lexer": "ipython3",
   "version": "3.9.12"
  }
 },
 "nbformat": 4,
 "nbformat_minor": 5
}
